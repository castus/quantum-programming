{
 "cells": [
  {
   "cell_type": "code",
   "execution_count": 1,
   "metadata": {},
   "outputs": [
    {
     "name": "stdout",
     "output_type": "stream",
     "text": [
      "{'1': 86, '0': 14}\n"
     ]
    },
    {
     "data": {
      "image/png": "[encoded data removed]",
      "text/plain": [
       "<Figure size 631.684x200.667 with 1 Axes>"
      ]
     },
     "execution_count": 1,
     "metadata": {},
     "output_type": "execute_result"
    }
   ],
   "source": [
    "from qiskit import QuantumCircuit, QuantumRegister, ClassicalRegister\n",
    "import runner\n",
    "\n",
    "q = QuantumRegister(1, name=\"quantum\")\n",
    "c = ClassicalRegister(1, name=\"classical\")\n",
    "circuit = QuantumCircuit(q, c, name=\"circuit\")\n",
    "# Probability of 0 (85%)\n",
    "# circuit.h(q[0])\n",
    "# circuit.t(q[0])\n",
    "# circuit.h(q[0])\n",
    "\n",
    "# Probability of 0 (50%)\n",
    "# circuit.h(q[0])\n",
    "# circuit.s(q[0])\n",
    "# circuit.h(q[0])\n",
    "\n",
    "# Probability of 1 (85%)\n",
    "circuit.h(q[0])\n",
    "circuit.s(q[0])\n",
    "circuit.t(q[0])\n",
    "circuit.h(q[0])\n",
    "\n",
    "circuit.measure(q, c)\n",
    "\n",
    "runner.run(circuit)\n",
    "circuit.draw(\"mpl\")"
   ]
  }
 ],
 "metadata": {
  "kernelspec": {
   "display_name": "Python 3",
   "language": "python",
   "name": "python3"
  },
  "language_info": {
   "codemirror_mode": {
    "name": "ipython",
    "version": 3
   },
   "file_extension": ".py",
   "mimetype": "text/x-python",
   "name": "python",
   "nbconvert_exporter": "python",
   "pygments_lexer": "ipython3",
   "version": "3.12.1"
  }
 },
 "nbformat": 4,
 "nbformat_minor": 2
}
